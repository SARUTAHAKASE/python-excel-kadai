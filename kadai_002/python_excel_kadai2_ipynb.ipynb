{
  "nbformat": 4,
  "nbformat_minor": 0,
  "metadata": {
    "colab": {
      "provenance": []
    },
    "kernelspec": {
      "name": "python3",
      "display_name": "Python 3"
    },
    "language_info": {
      "name": "python"
    }
  },
  "cells": [
    {
      "cell_type": "code",
      "execution_count": null,
      "metadata": {
        "id": "KgZN2Z3cBepN"
      },
      "outputs": [],
      "source": [
        "import pandas as pd\n",
        "\n",
        "df = pd.DataFrame({\n",
        "    '日付':\n",
        "    ['2023-05-17', '2023-05-18', '2023-05-19', '2023-05-20', '2023-05-21'],\n",
        "    '社員名':['山田', '佐藤', '鈴木', '田中', '高橋'],\n",
        "    '売上':[100, 200, 150, 300, 250],\n",
        "    '部門':['メーカー','代理店', 'メーカー', '商社', '代理店']\n",
        "})\n",
        "\n",
        "df['平均売上'] = df['売上'].mean()\n",
        "\n",
        "avg_sales = df['平均売上'].iloc[0]\n",
        "\n",
        "def performance(sales):\n",
        "    result = '';\n",
        "    if sales >= avg_sales + 50:\n",
        "        result = 'A';\n",
        "    elif sales >= avg_sales:\n",
        "        result = 'B';\n",
        "    else :\n",
        "        result = 'C';\n",
        "    return result\n",
        "\n",
        "df['業績ランク'] = df['売上'].apply(performance)\n",
        "\n",
        "with pd.ExcelWriter('業績.xlsx') as writer:\n",
        "    df.to_excel(writer, sheet_name='Sheet1', index=False)"
      ]
    }
  ]
}