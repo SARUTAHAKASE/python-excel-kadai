{
  "nbformat": 4,
  "nbformat_minor": 0,
  "metadata": {
    "colab": {
      "provenance": []
    },
    "kernelspec": {
      "name": "python3",
      "display_name": "Python 3"
    },
    "language_info": {
      "name": "python"
    }
  },
  "cells": [
    {
      "cell_type": "code",
      "source": [
        "pip install openpyxl==3.1.5"
      ],
      "metadata": {
        "colab": {
          "base_uri": "https://localhost:8080/"
        },
        "id": "sxE2uxlM2mHt",
        "outputId": "4ba79565-c28c-4f7a-c1e0-33ca6f9d4d57"
      },
      "execution_count": 13,
      "outputs": [
        {
          "output_type": "stream",
          "name": "stdout",
          "text": [
            "Collecting openpyxl==3.1.5\n",
            "  Downloading openpyxl-3.1.5-py2.py3-none-any.whl.metadata (2.5 kB)\n",
            "Requirement already satisfied: et-xmlfile in /usr/local/lib/python3.11/dist-packages (from openpyxl==3.1.5) (2.0.0)\n",
            "Downloading openpyxl-3.1.5-py2.py3-none-any.whl (250 kB)\n",
            "\u001b[?25l   \u001b[90m━━━━━━━━━━━━━━━━━━━━━━━━━━━━━━━━━━━━━━━━\u001b[0m \u001b[32m0.0/250.9 kB\u001b[0m \u001b[31m?\u001b[0m eta \u001b[36m-:--:--\u001b[0m\r\u001b[2K   \u001b[91m━━━━━━━━━━━━━━━━━━━━━━━━━━━━━━━━━━━━━━━\u001b[0m\u001b[90m╺\u001b[0m \u001b[32m245.8/250.9 kB\u001b[0m \u001b[31m8.8 MB/s\u001b[0m eta \u001b[36m0:00:01\u001b[0m\r\u001b[2K   \u001b[90m━━━━━━━━━━━━━━━━━━━━━━━━━━━━━━━━━━━━━━━━\u001b[0m \u001b[32m250.9/250.9 kB\u001b[0m \u001b[31m5.5 MB/s\u001b[0m eta \u001b[36m0:00:00\u001b[0m\n",
            "\u001b[?25hInstalling collected packages: openpyxl\n",
            "  Attempting uninstall: openpyxl\n",
            "    Found existing installation: openpyxl 3.0.10\n",
            "    Uninstalling openpyxl-3.0.10:\n",
            "      Successfully uninstalled openpyxl-3.0.10\n",
            "Successfully installed openpyxl-3.1.5\n"
          ]
        }
      ]
    },
    {
      "cell_type": "code",
      "source": [
        "import openpyxl\n",
        "\n",
        "workbook = openpyxl.Workbook()\n",
        "\n",
        "\n",
        "sheet = workbook.create_sheet('sheet1')\n",
        "sheet = workbook.active\n",
        "\n",
        "\n",
        "sheet['a1'] = '請求書'\n",
        "\n",
        "charactor = [['株式会社ABC'],\n",
        "             ['〒101-0022 東京都千代田区神田練塀町300'],\n",
        "             ['TEL:03-1234-5678 FAX:03-1234-5678'],\n",
        "             ['担当者名:鈴木一郎 様']\n",
        "]\n",
        "\n",
        "for row in charactor:\n",
        "    sheet.append(row)\n",
        "\n",
        "data = [['商品名','数量','単価','金額'],\n",
        "        ['商品A', 2, 10000, 20000],\n",
        "        ['商品B', 1, 15000, 15000],\n",
        "        ['', '', '', 35000],\n",
        "        ['小計', '', '', 35000],\n",
        "        ['消費税', '', '', 3500],\n",
        "        ['合計', '', '', 38500]\n",
        "]\n",
        "\n",
        "for row in data:\n",
        "    sheet.append(row)\n",
        "\n",
        "sheet.insert_rows(1, 1)\n",
        "sheet.insert_rows(3, 1)\n",
        "sheet.insert_rows(8, 2)\n",
        "sheet.insert_rows(14, 1)\n",
        "sheet.insert_cols(1, 1)\n",
        "\n",
        "sheet['F4'] = 'No.'\n",
        "sheet['F5'] = '日付'\n",
        "sheet['G4'].value = '0001'\n",
        "\n",
        "from datetime import datetime\n",
        "today = datetime.today().strftime('%Y/%m/%d')\n",
        "\n",
        "sheet['G5'].value =  today\n",
        "\n",
        "\n",
        "\n",
        "from openpyxl.styles import Font\n",
        "\n",
        "font = Font(name='Calibri', size=12, bold=True)\n",
        "\n",
        "max_row = sheet.max_row\n",
        "max_column = sheet.max_column\n",
        "\n",
        "for row_idx in range(1, max_row +1):\n",
        "    for col_idx in range(1, max_column + 1):\n",
        "        cell = sheet.cell(row=row_idx, column=col_idx)\n",
        "        cell.font = font\n",
        "\n",
        "workbook.save('請求書_20250322.xlsx')\n",
        "\n",
        "\n",
        "\n"
      ],
      "metadata": {
        "id": "hpgO_EdK5Umx"
      },
      "execution_count": 57,
      "outputs": []
    },
    {
      "cell_type": "markdown",
      "source": [],
      "metadata": {
        "id": "K62JdLig5osj"
      }
    }
  ]
}