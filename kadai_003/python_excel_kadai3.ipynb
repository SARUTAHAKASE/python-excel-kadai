{
  "nbformat": 4,
  "nbformat_minor": 0,
  "metadata": {
    "colab": {
      "provenance": []
    },
    "kernelspec": {
      "name": "python3",
      "display_name": "Python 3"
    },
    "language_info": {
      "name": "python"
    }
  },
  "cells": [
    {
      "cell_type": "code",
      "execution_count": 7,
      "metadata": {
        "id": "0V437jj9Z71y"
      },
      "outputs": [],
      "source": [
        "import openpyxl\n",
        "import pandas as pd\n",
        "\n",
        "file_list = ['2022_年間売上表.xlsx', '2023_年間売上表.xlsx']\n",
        "\n",
        "df = pd.DataFrame()\n",
        "\n",
        "for file_name in file_list:\n",
        "\n",
        "    temp_df = pd.read_excel(file_name, header=0)\n",
        "\n",
        "    df = pd.concat([df, temp_df])\n",
        "#print(df)\n",
        "\n",
        "grouped = df.groupby(['商品','売上年']).agg({'金額（千円）': 'sum'}).reset_index()\n",
        "\n",
        "#print(grouped)\n",
        "\n",
        "\n",
        "with pd.ExcelWriter('売上集計表.xlsx') as writer:\n",
        "    grouped.to_excel(writer, sheet_name= 'Sheet1', index=False)\n",
        "\n",
        "from openpyxl.styles import PatternFill, Font\n",
        "\n",
        "wb = openpyxl.load_workbook('売上集計表.xlsx')\n",
        "sheet = wb.active\n",
        "\n",
        "#sheet['A1': 'C1'].fill = PatternFill(patternType='solid', fgColor='F2F2F2')\n",
        "\n",
        "for row in sheet['A1:C1']:\n",
        "    for cell in row:\n",
        "        cell.fill = PatternFill(patternType='solid', fgColor='F2F2F2')\n",
        "\n",
        "wb.save('売上集計表.xlsx')\n",
        "\n"
      ]
    },
    {
      "cell_type": "markdown",
      "source": [
        "# 新しいセクション"
      ],
      "metadata": {
        "id": "CxV5NZjBLQMr"
      }
    }
  ]
}